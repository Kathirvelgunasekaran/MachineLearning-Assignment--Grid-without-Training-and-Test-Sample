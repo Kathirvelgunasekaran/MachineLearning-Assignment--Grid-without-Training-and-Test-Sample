{
 "cells": [
  {
   "cell_type": "code",
   "execution_count": null,
   "metadata": {},
   "outputs": [],
   "source": [
    "#pandas is a libray it contains functions related to the database\n",
    "import pandas as pd\n",
    "import numpy as np\n",
    "import matplotlib.pyplot as plt"
   ]
  },
  {
   "cell_type": "code",
   "execution_count": null,
   "metadata": {},
   "outputs": [],
   "source": [
    "dataset=pd.read_csv(\"insurance_pre.csv\")\n",
    "dataset"
   ]
  },
  {
   "cell_type": "code",
   "execution_count": null,
   "metadata": {},
   "outputs": [],
   "source": [
    "#Now we are going to convert categorial data column (Sex and Smoker) as Numerical numbers using One Hot Encoding \n",
    "dataset=pd.get_dummies(dataset,drop_first=True) # Nominal data to adrenal data get, while giving drop_first=True function it'll drop extra column.,drop_first=True\n",
    "dataset"
   ]
  },
  {
   "cell_type": "code",
   "execution_count": null,
   "metadata": {},
   "outputs": [],
   "source": [
    "dataset.columns #It'll show all dataset columns. we can use it for further process related."
   ]
  },
  {
   "cell_type": "code",
   "execution_count": null,
   "metadata": {},
   "outputs": [],
   "source": [
    "#Input and output split\n",
    "#Data was already preprocessed. Now we are going to perform Input and output variables split\n",
    "indep=dataset[['age', 'bmi', 'children', 'sex_male', 'smoker_yes']] \n",
    "indep #Now 'age', 'bmi', 'children', 'sex_female', 'sex_male','smoker_no', 'smoker_yes' column values seperately assigned into independent varaiable, Independent means input, Dependent means output."
   ]
  },
  {
   "cell_type": "code",
   "execution_count": null,
   "metadata": {},
   "outputs": [],
   "source": [
    "#Now 'charges' column value seperately assigned into dependent varaiable, dependent means output.\n",
    "dep=dataset[[\"charges\"]] #Now charges value seperately assigned into dependent varaiable,\n",
    "dep\n",
    "#Now we got seperatley independent and dependent varaiables. now sucessfully splited input and output"
   ]
  },
  {
   "cell_type": "code",
   "execution_count": null,
   "metadata": {},
   "outputs": [],
   "source": [
    "#Model Creation\n",
    "#ML algorithm all are provided by sklearn, we are creting this Model using trainset and tesset varaiable. \n",
    "from sklearn.model_selection import GridSearchCV #sklearn.model_selection import GridSearchCV, here GridSearchCV means create table and validate all the parameter values in multiple angle/combination. CV means cross validation.\n",
    "#Using GridSerachCV(CV-cross validation) means create table in box and check all combination of parameters values and providing results in multiple angle like above.\n",
    "#GridSerachCV--cross validation going to happen and it's related Gridsearch also going to perform here\n",
    "from sklearn.tree import DecisionTreeRegressor # While calling, this line loaded into memory. here SVR may be function or class. In this line SVR considered as class\n",
    "param_grid={'criterion':['mse','mae','friedman_mse'],\n",
    "           'max_features': ['auto','sqrt','log2'],\n",
    "            'splitter':['best','random']}\n",
    "grid=GridSearchCV(DecisionTreeRegressor(),param_grid,refit=True, verbose=3,n_jobs=1) #Here we calling GridSearchCV() and here we are passing SVR and passing parameters.refit=True means which one is best model take it as last model(). GridSearchCV() final output use it for best model. 'refit=False' means it will take last combination as (c:300, gmma:scale) like that only it'll take. \n",
    "grid.fit(indep,dep) #fit function we are calling it using access operator, now passing splited trainset input and output.\n",
    "#while executing above step fit() method model has been created. we got total model 120 model combination created.n_jobs=-1 means parallely running all models. once executed this it'll show all the executed parameter details.\n",
    "#All models saved under grid varaiable."
   ]
  },
  {
   "cell_type": "code",
   "execution_count": null,
   "metadata": {},
   "outputs": [],
   "source": [
    "#print the best parameter after tunning\n",
    "#print(grid.best_params_)\n",
    "re=grid.cv_results_ \n",
    "print(\"The R_Score value for best parameter {}:\".format(grid.best_params_)) "
   ]
  },
  {
   "cell_type": "code",
   "execution_count": null,
   "metadata": {},
   "outputs": [],
   "source": [
    "table=pd.DataFrame.from_dict(re)\n",
    "table"
   ]
  },
  {
   "cell_type": "code",
   "execution_count": null,
   "metadata": {},
   "outputs": [],
   "source": [
    "age_input=float(input(\"Age:\"))\n",
    "bmi_input=float(input(\"BMI:\"))\n",
    "Children_input=float(input(\"Children:\"))\n",
    "sex_male_input=int(input(\"Sex Male 0 or 1:\"))\n",
    "smoker_yes_input=int(input(\"Smoker Yes 0 or 1:\"))"
   ]
  },
  {
   "cell_type": "code",
   "execution_count": null,
   "metadata": {},
   "outputs": [],
   "source": [
    "Future_Prediction=grid.predict([[age_input,bmi_input,Children_input,sex_male_input,smoker_yes_input]]) #change the parameter\n",
    "print(\"Future_Prediction={}\".format(Future_Prediction))"
   ]
  },
  {
   "cell_type": "markdown",
   "metadata": {},
   "source": [
    "###### "
   ]
  },
  {
   "cell_type": "code",
   "execution_count": null,
   "metadata": {},
   "outputs": [],
   "source": []
  }
 ],
 "metadata": {
  "kernelspec": {
   "display_name": "Python 3",
   "language": "python",
   "name": "python3"
  },
  "language_info": {
   "codemirror_mode": {
    "name": "ipython",
    "version": 3
   },
   "file_extension": ".py",
   "mimetype": "text/x-python",
   "name": "python",
   "nbconvert_exporter": "python",
   "pygments_lexer": "ipython3",
   "version": "3.7.4"
  }
 },
 "nbformat": 4,
 "nbformat_minor": 2
}
